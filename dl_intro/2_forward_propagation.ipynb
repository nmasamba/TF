{
 "cells": [
  {
   "cell_type": "code",
   "execution_count": 1,
   "metadata": {},
   "outputs": [],
   "source": [
    "import numpy as np"
   ]
  },
  {
   "cell_type": "markdown",
   "metadata": {},
   "source": [
    "<img src='data/simple_net.png'>"
   ]
  },
  {
   "cell_type": "code",
   "execution_count": 2,
   "metadata": {},
   "outputs": [],
   "source": [
    "\n",
    "# Perform forward propagation for above neural network\n",
    "# Remember: we only supply values for the input layer\n",
    "# Think of each node in the input layer as a feature value for some given data point\n",
    "input_layer = np.array([2, 3])\n",
    "\n",
    "# The neural network is responsible for computing the wights\n",
    "# For this forward propagation example, we'll hard-code them\n",
    "weights = {'input_node_0': np.array([1, 1]),\n",
    "          'input_node_1': np.array([-1, 1]),\n",
    "          'hidden_nodes': np.array([2, -1])}\n",
    "\n",
    "node_0_value = (input_layer * weights['input_node_0']).sum()\n",
    "node_1_value = (input_layer * weights['input_node_1']).sum()\n"
   ]
  },
  {
   "cell_type": "code",
   "execution_count": 3,
   "metadata": {},
   "outputs": [
    {
     "name": "stdout",
     "output_type": "stream",
     "text": [
      "[5 1]\n"
     ]
    }
   ],
   "source": [
    "\n",
    "# Inspect hidden layer values\n",
    "hidden_layer_values = np.array([node_0_value, node_1_value])\n",
    "print(hidden_layer_values)"
   ]
  },
  {
   "cell_type": "code",
   "execution_count": 4,
   "metadata": {},
   "outputs": [
    {
     "name": "stdout",
     "output_type": "stream",
     "text": [
      "9\n"
     ]
    }
   ],
   "source": [
    "\n",
    "# Inspect output layer\n",
    "neural_net_output = (hidden_layer_values * weights['hidden_nodes']).sum()\n",
    "print(neural_net_output)"
   ]
  },
  {
   "cell_type": "code",
   "execution_count": null,
   "metadata": {},
   "outputs": [],
   "source": []
  }
 ],
 "metadata": {
  "kernelspec": {
   "display_name": "Rules vs Random (PhD)",
   "language": "python",
   "name": "rules_vs_random"
  },
  "language_info": {
   "codemirror_mode": {
    "name": "ipython",
    "version": 3
   },
   "file_extension": ".py",
   "mimetype": "text/x-python",
   "name": "python",
   "nbconvert_exporter": "python",
   "pygments_lexer": "ipython3",
   "version": "3.7.11"
  }
 },
 "nbformat": 4,
 "nbformat_minor": 2
}
