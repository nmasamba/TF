{
 "cells": [
  {
   "cell_type": "code",
   "execution_count": 1,
   "metadata": {},
   "outputs": [],
   "source": [
    "\n",
    "import numpy as np"
   ]
  },
  {
   "cell_type": "markdown",
   "metadata": {},
   "source": [
    "<img src='data/nn_optimisation.png'>"
   ]
  },
  {
   "cell_type": "code",
   "execution_count": 2,
   "metadata": {},
   "outputs": [],
   "source": [
    "def predict_with_nn(data_point, weights):\n",
    "    node_0_value = (data_point * weights['input_node_0']).sum()\n",
    "    node_1_value = (data_point * weights['input_node_1']).sum()\n",
    "    hidden_layer_values = np.array([node_0_value, node_1_value])\n",
    "    neural_net_output = (hidden_layer_values * weights['output']).sum()\n",
    "    return neural_net_output"
   ]
  },
  {
   "cell_type": "code",
   "execution_count": 3,
   "metadata": {},
   "outputs": [],
   "source": [
    "\n",
    "# Make a prediction for above neural network using original weights\n",
    "input_data = np.array([0, 3])\n",
    "weights_0 = {'input_node_0': [2, 1],\n",
    "             'input_node_1': [1, 2],\n",
    "             'output': [1, 1]\n",
    "            }\n",
    "\n",
    "model_output_0 = predict_with_nn(input_data, weights_0)"
   ]
  },
  {
   "cell_type": "code",
   "execution_count": 4,
   "metadata": {},
   "outputs": [
    {
     "name": "stdout",
     "output_type": "stream",
     "text": [
      "6\n"
     ]
    }
   ],
   "source": [
    "\n",
    "# Ground truth target value of the network should be 3\n",
    "# calculate this data point's estimation error\n",
    "target_actual = 3\n",
    "error_0 = model_output_0 - target_actual\n",
    "print(error_0)"
   ]
  },
  {
   "cell_type": "code",
   "execution_count": 5,
   "metadata": {},
   "outputs": [],
   "source": [
    "\n",
    "# Optimise ONE of the original weights such that the error is minimised\n",
    "# Make a prediction using optimised weights\n",
    "weights_1 = {'input_node_0': [2, 1],\n",
    "             'input_node_1': [1, 2],\n",
    "             'output': [1, 0]\n",
    "            }\n",
    "\n",
    "model_output_1 = predict_with_nn(input_data, weights_1)"
   ]
  },
  {
   "cell_type": "code",
   "execution_count": 6,
   "metadata": {},
   "outputs": [
    {
     "name": "stdout",
     "output_type": "stream",
     "text": [
      "0\n"
     ]
    }
   ],
   "source": [
    "\n",
    "# Calculate the new model's error on this data point\n",
    "# This is how a neural network optimises weights to make the most accurate predictions possible\n",
    "# However, it gets harder as more data points arise, corresponding to more errors\n",
    "# Hence, a single measure, encapsulated in the loss function, is used to estimate the whole network's error\n",
    "# The loss function can be optimised through gradient descent, for example\n",
    "error_1 = model_output_1 - target_actual\n",
    "print(error_1)"
   ]
  }
 ],
 "metadata": {
  "kernelspec": {
   "display_name": "Rules vs Random (PhD)",
   "language": "python",
   "name": "rules_vs_random"
  },
  "language_info": {
   "codemirror_mode": {
    "name": "ipython",
    "version": 3
   },
   "file_extension": ".py",
   "mimetype": "text/x-python",
   "name": "python",
   "nbconvert_exporter": "python",
   "pygments_lexer": "ipython3",
   "version": "3.7.11"
  }
 },
 "nbformat": 4,
 "nbformat_minor": 2
}
