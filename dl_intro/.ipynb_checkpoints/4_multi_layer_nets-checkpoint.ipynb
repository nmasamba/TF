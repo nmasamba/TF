{
 "cells": [
  {
   "cell_type": "code",
   "execution_count": 1,
   "metadata": {},
   "outputs": [],
   "source": [
    "import numpy as np"
   ]
  },
  {
   "cell_type": "markdown",
   "metadata": {},
   "source": [
    "<img src='data/multi_layer_net.png'>"
   ]
  },
  {
   "cell_type": "code",
   "execution_count": 2,
   "metadata": {},
   "outputs": [],
   "source": [
    "\n",
    "# Perform forward propagation for above multilayer neural network\n",
    "# Apply ReLU activation function at every layer\n",
    "def relu(input):\n",
    "    output = max(0, input)\n",
    "    return output"
   ]
  },
  {
   "cell_type": "code",
   "execution_count": 3,
   "metadata": {},
   "outputs": [],
   "source": [
    "\n",
    "# Specify input layer\n",
    "input_layer = np.array([3, 5])\n",
    "\n",
    "# Hard-code weights\n",
    "weights = {\n",
    "    'hidden_node_0_0': np.array([2, 4]),\n",
    "    'hidden_node_0_1': np.array([4, -5]),\n",
    "    'hidden_node_1_0': np.array([-1, 2]),\n",
    "    'hidden_node_1_1': np.array([1, 2]),\n",
    "    'output': np.array([2, 7])\n",
    "}"
   ]
  },
  {
   "cell_type": "code",
   "execution_count": 4,
   "metadata": {},
   "outputs": [],
   "source": [
    "\n",
    "def neural_net_prediction(input_data):\n",
    "    # Calculate node 0 in the first hidden layer\n",
    "    hidden_node_0_0_input = (input_data * weights['hidden_node_0_0']).sum()\n",
    "    hidden_node_0_0_output = relu(hidden_node_0_0_input)\n",
    "\n",
    "    # Calculate node 1 in the first hidden layer\n",
    "    hidden_node_0_1_input = (input_data * weights['hidden_node_0_1']).sum()\n",
    "    hidden_node_0_1_output = relu(hidden_node_0_1_input)\n",
    "\n",
    "    # First hidden layer's output\n",
    "    hidden_0_outputs = np.array([hidden_node_0_0_output, hidden_node_0_1_output])\n",
    "\n",
    "    # Calculate node 0 in the second hidden layer\n",
    "    hidden_node_1_0_input = (hidden_0_outputs * weights['hidden_node_1_0']).sum()\n",
    "    hidden_node_1_0_output = relu(hidden_node_1_0_input)\n",
    "\n",
    "    # Calculate node 1 in the second hidden layer\n",
    "    hidden_node_1_1_input = (hidden_0_outputs * weights['hidden_node_1_1']).sum()\n",
    "    hidden_node_1_1_output = relu(hidden_node_1_1_input)\n",
    "\n",
    "    # Second hidden layer's output\n",
    "    hidden_1_outputs = np.array([hidden_node_1_0_output, hidden_node_1_1_output])\n",
    "    \n",
    "    # Calculate output here: model_output\n",
    "    model_output = (hidden_1_outputs * weights['output']).sum()\n",
    "    \n",
    "    # Return model_output\n",
    "    return(model_output)"
   ]
  },
  {
   "cell_type": "code",
   "execution_count": 5,
   "metadata": {},
   "outputs": [
    {
     "name": "stdout",
     "output_type": "stream",
     "text": [
      "182\n"
     ]
    }
   ],
   "source": [
    "\n",
    "# Call neural_net_prediction() function on input layer\n",
    "nn_output = neural_net_prediction(input_layer)\n",
    "print(nn_output)"
   ]
  },
  {
   "cell_type": "code",
   "execution_count": null,
   "metadata": {},
   "outputs": [],
   "source": []
  }
 ],
 "metadata": {
  "kernelspec": {
   "display_name": "Rules vs Random (PhD)",
   "language": "python",
   "name": "rules_vs_random"
  },
  "language_info": {
   "codemirror_mode": {
    "name": "ipython",
    "version": 3
   },
   "file_extension": ".py",
   "mimetype": "text/x-python",
   "name": "python",
   "nbconvert_exporter": "python",
   "pygments_lexer": "ipython3",
   "version": "3.7.11"
  }
 },
 "nbformat": 4,
 "nbformat_minor": 2
}
