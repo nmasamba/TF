{
 "cells": [
  {
   "cell_type": "code",
   "execution_count": 1,
   "metadata": {},
   "outputs": [],
   "source": [
    "\n",
    "import numpy as np"
   ]
  },
  {
   "cell_type": "code",
   "execution_count": 2,
   "metadata": {},
   "outputs": [
    {
     "name": "stdout",
     "output_type": "stream",
     "text": [
      "7\n"
     ]
    }
   ],
   "source": [
    "\n",
    "\n",
    "input_data = np.array([1,2,3])\n",
    "weights = ([0,2,1])\n",
    "target = 0\n",
    "\n",
    "predictions = (weights * input_data).sum()\n",
    "error = predictions - target\n",
    "print(error)"
   ]
  },
  {
   "cell_type": "code",
   "execution_count": 3,
   "metadata": {},
   "outputs": [
    {
     "name": "stdout",
     "output_type": "stream",
     "text": [
      "Slope: [14 28 42]\n"
     ]
    }
   ],
   "source": [
    "\n",
    "# slope = 2 * x * (xb-y), where x is the input data, b is the weights, y is the target \n",
    "# we counteract the weights with the slope during gradient descent\n",
    "slope = 2 * input_data * error\n",
    "print(\"Slope:\", slope)"
   ]
  },
  {
   "cell_type": "code",
   "execution_count": 4,
   "metadata": {},
   "outputs": [
    {
     "name": "stdout",
     "output_type": "stream",
     "text": [
      "New weights after subtracting: [-14 -26 -41]\n",
      "New error after subtracting: -189\n"
     ]
    }
   ],
   "source": [
    "\n",
    "# use the slope(s) to improve the model\n",
    "# slopes are positive, so we subtract the slopes from the weights to move towards minimising the loss function\n",
    "weights_subtracted = weights - slope\n",
    "print(\"New weights after subtracting:\", weights_subtracted)\n",
    "\n",
    "# check if the error has improved (moved towards 0) after updating the weights\n",
    "# turns out the error has moved too much in the opposite direction\n",
    "predictions_subtracted = (weights_subtracted * input_data).sum()\n",
    "error_subtracted = predictions_subtracted - target\n",
    "print(\"New error after subtracting:\", error_subtracted)"
   ]
  },
  {
   "cell_type": "code",
   "execution_count": 5,
   "metadata": {},
   "outputs": [
    {
     "name": "stdout",
     "output_type": "stream",
     "text": [
      "Weights after applying learning rate: [-0.14  1.72  0.58]\n",
      "New error after applying learning rate: 5.04\n"
     ]
    }
   ],
   "source": [
    "\n",
    "# to learn more slowly and avoid overshooting during gradient descent, introduce a learning rate\n",
    "# a learning rate enables smooth optimisation of the loss function\n",
    "learning_rate = 0.01 # this is a commonly used error rate in the literature\n",
    "weights_lr = weights - (learning_rate * slope)\n",
    "print(\"Weights after applying learning rate:\", weights_lr)\n",
    "\n",
    "# check if the error has improved\n",
    "# we find the error has moved smoothly towards 0\n",
    "predictions_lr = (weights_lr * input_data).sum()\n",
    "error_lr = predictions_lr - target\n",
    "print(\"New error after applying learning rate:\", error_lr)"
   ]
  }
 ],
 "metadata": {
  "kernelspec": {
   "display_name": "Rules vs Random (PhD)",
   "language": "python",
   "name": "rules_vs_random"
  },
  "language_info": {
   "codemirror_mode": {
    "name": "ipython",
    "version": 3
   },
   "file_extension": ".py",
   "mimetype": "text/x-python",
   "name": "python",
   "nbconvert_exporter": "python",
   "pygments_lexer": "ipython3",
   "version": "3.7.11"
  }
 },
 "nbformat": 4,
 "nbformat_minor": 2
}
