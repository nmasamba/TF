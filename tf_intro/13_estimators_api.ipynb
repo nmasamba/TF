{
 "cells": [
  {
   "cell_type": "code",
   "execution_count": null,
   "metadata": {},
   "outputs": [],
   "source": [
    "\n",
    "import tensorflow as tf\n",
    "import numpy as np\n",
    "import pandas as pd"
   ]
  },
  {
   "cell_type": "code",
   "execution_count": null,
   "metadata": {},
   "outputs": [],
   "source": [
    "\n",
    "# Load the housing data\n",
    "housing_df = pd.read_csv('data/kc_house_data.csv')\n",
    "housing_df.head()"
   ]
  },
  {
   "cell_type": "code",
   "execution_count": null,
   "metadata": {},
   "outputs": [],
   "source": [
    "\n",
    "# Specify feature columns to use with the Estimators API\n",
    "bedrooms = tf.feature_column.numeric_column('bedrooms')\n",
    "bathrooms = tf.feature_column.numeric_column('bathrooms')\n",
    "\n",
    "features_list = [bedrooms, bathrooms]"
   ]
  },
  {
   "cell_type": "code",
   "execution_count": null,
   "metadata": {},
   "outputs": [],
   "source": [
    "\n",
    "# Function to create the inputs to the API\n",
    "def create_est_inputs():\n",
    "    # Define the target\n",
    "    target = np.array(housing_df['price'])\n",
    "    # Define the features\n",
    "    features = {'bedrooms':np.array(housing_df['bedrooms']), \n",
    "                'bathrooms':np.array(housing_df['bathrooms'])}\n",
    "    return features, target"
   ]
  },
  {
   "cell_type": "code",
   "execution_count": null,
   "metadata": {},
   "outputs": [],
   "source": [
    "\n",
    "# Specify the model \n",
    "model = tf.estimator.DNNRegressor(feature_columns=features_list,\n",
    "                                 hidden_units=[2,2])\n",
    "\n",
    "model.train(create_est_inputs, steps=2)"
   ]
  },
  {
   "cell_type": "code",
   "execution_count": null,
   "metadata": {},
   "outputs": [],
   "source": [
    "\n",
    "# TO DO: Run inference with trained model"
   ]
  }
 ],
 "metadata": {
  "kernelspec": {
   "display_name": "Rules vs Random (PhD)",
   "language": "python",
   "name": "rules_vs_random"
  },
  "language_info": {
   "codemirror_mode": {
    "name": "ipython",
    "version": 3
   },
   "file_extension": ".py",
   "mimetype": "text/x-python",
   "name": "python",
   "nbconvert_exporter": "python",
   "pygments_lexer": "ipython3",
   "version": "3.7.11"
  }
 },
 "nbformat": 4,
 "nbformat_minor": 2
}
