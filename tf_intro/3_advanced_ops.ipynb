{
 "cells": [
  {
   "cell_type": "code",
   "execution_count": 1,
   "metadata": {},
   "outputs": [],
   "source": [
    "\n",
    "import tensorflow as tf"
   ]
  },
  {
   "cell_type": "markdown",
   "metadata": {},
   "source": [
    "## gradient() operation"
   ]
  },
  {
   "cell_type": "markdown",
   "metadata": {},
   "source": [
    "Many problems in machine learning require optimisation. This might include finding a function's minimum point (such as the lowest value of a loss function), or finding a function's maximum point (such as the highest value of an objective function). Optimisation can be performed using the gradient() operation.\n",
    "\n",
    "Optimum: gradient == 0 <br>\n",
    "Minima: find a point where change in gradient > 0 <br>\n",
    "Maxima: find a point where change in gradient < 0 <br>"
   ]
  },
  {
   "cell_type": "code",
   "execution_count": 2,
   "metadata": {},
   "outputs": [],
   "source": [
    "\n",
    "x = tf.Variable(-1.0)"
   ]
  },
  {
   "cell_type": "code",
   "execution_count": 3,
   "metadata": {},
   "outputs": [],
   "source": [
    "\n",
    "with tf.GradientTape() as tape:\n",
    "    tape.watch(x) # this enables us to calculate the rate of change of y w.r.t. x\n",
    "    y = tf.multiply(x, x) # y = x^2"
   ]
  },
  {
   "cell_type": "code",
   "execution_count": 4,
   "metadata": {},
   "outputs": [
    {
     "name": "stdout",
     "output_type": "stream",
     "text": [
      "-2.0\n"
     ]
    }
   ],
   "source": [
    "\n",
    "# Evaluate the gradient of y at x = -1\n",
    "y_gradient = tape.gradient(y, x)\n",
    "print(y_gradient.numpy())"
   ]
  },
  {
   "cell_type": "markdown",
   "metadata": {},
   "source": [
    "## reshape() operation"
   ]
  },
  {
   "cell_type": "markdown",
   "metadata": {},
   "source": [
    "The reshape() operation enables the shape of a matrix to be manipulated according to the use case. For example, a computation might require a 256x1 matrix instead of a 16x16 matrix. This is possible with the reshape() operation."
   ]
  },
  {
   "cell_type": "code",
   "execution_count": 5,
   "metadata": {},
   "outputs": [
    {
     "name": "stdout",
     "output_type": "stream",
     "text": [
      "[[ 99 105]\n",
      " [ 88  58]]\n"
     ]
    }
   ],
   "source": [
    "\n",
    "# Generate initial matrix\n",
    "# Note use of the random() operation which populates tensors with entries drawn from some probability distribution\n",
    "original_matrix = tf.random.uniform([2,2], maxval=255, dtype=tf.int32)\n",
    "print(original_matrix.numpy())"
   ]
  },
  {
   "cell_type": "code",
   "execution_count": 6,
   "metadata": {},
   "outputs": [
    {
     "name": "stdout",
     "output_type": "stream",
     "text": [
      "[[ 99]\n",
      " [105]\n",
      " [ 88]\n",
      " [ 58]]\n"
     ]
    }
   ],
   "source": [
    "\n",
    "# Apply reshape()\n",
    "reshaped_matrix = tf.reshape(original_matrix, [4, 1])\n",
    "print(reshaped_matrix.numpy())"
   ]
  },
  {
   "cell_type": "code",
   "execution_count": null,
   "metadata": {},
   "outputs": [],
   "source": []
  }
 ],
 "metadata": {
  "kernelspec": {
   "display_name": "Rules vs Random (PhD)",
   "language": "python",
   "name": "rules_vs_random"
  },
  "language_info": {
   "codemirror_mode": {
    "name": "ipython",
    "version": 3
   },
   "file_extension": ".py",
   "mimetype": "text/x-python",
   "name": "python",
   "nbconvert_exporter": "python",
   "pygments_lexer": "ipython3",
   "version": "3.7.11"
  }
 },
 "nbformat": 4,
 "nbformat_minor": 2
}
