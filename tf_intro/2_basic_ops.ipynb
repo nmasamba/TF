{
 "cells": [
  {
   "cell_type": "code",
   "execution_count": 1,
   "metadata": {},
   "outputs": [],
   "source": [
    "\n",
    "import tensorflow as tf"
   ]
  },
  {
   "cell_type": "code",
   "execution_count": 2,
   "metadata": {},
   "outputs": [],
   "source": [
    "# 0D tensors\n",
    "A0 = tf.constant([1])\n",
    "B0 = tf.constant([2])\n",
    "\n",
    "# 1D tensors\n",
    "A1 = tf.constant([1,2])\n",
    "B1 = tf.constant([3,4])\n",
    "\n",
    "# 2D tensors\n",
    "A2 = tf.constant([[[1,2], [3,4]]])\n",
    "B2 = tf.constant([[5,6], [7,8]])"
   ]
  },
  {
   "cell_type": "markdown",
   "metadata": {},
   "source": [
    "## add() operator"
   ]
  },
  {
   "cell_type": "markdown",
   "metadata": {},
   "source": [
    "The add() operation performs element-wise addition with two tensors. Element-wise addition mandates that both tensors have the same shape."
   ]
  },
  {
   "cell_type": "code",
   "execution_count": 3,
   "metadata": {},
   "outputs": [
    {
     "name": "stdout",
     "output_type": "stream",
     "text": [
      "C0: tf.Tensor([3], shape=(1,), dtype=int32)\n",
      "C1: tf.Tensor([4 6], shape=(2,), dtype=int32)\n",
      "C2: tf.Tensor(\n",
      "[[[ 6  8]\n",
      "  [10 12]]], shape=(1, 2, 2), dtype=int32)\n"
     ]
    }
   ],
   "source": [
    "C0 = tf.add(A0, B0)\n",
    "print(\"C0:\", C0)\n",
    "\n",
    "C1 = tf.add(A1, B1)\n",
    "print(\"C1:\", C1)\n",
    "\n",
    "C2 = tf.add(A2, B2)\n",
    "print(\"C2:\", C2)"
   ]
  },
  {
   "cell_type": "markdown",
   "metadata": {},
   "source": [
    "## multiply() operator"
   ]
  },
  {
   "cell_type": "markdown",
   "metadata": {},
   "source": [
    "The multiply() operator performs element-wise multiplication with two tensors. The tensors must have the same shape."
   ]
  },
  {
   "cell_type": "code",
   "execution_count": 4,
   "metadata": {},
   "outputs": [
    {
     "name": "stdout",
     "output_type": "stream",
     "text": [
      "D0: tf.Tensor([2], shape=(1,), dtype=int32)\n",
      "D1: tf.Tensor([3 8], shape=(2,), dtype=int32)\n",
      "D2: tf.Tensor(\n",
      "[[[ 5 12]\n",
      "  [21 32]]], shape=(1, 2, 2), dtype=int32)\n"
     ]
    }
   ],
   "source": [
    "D0 = tf.multiply(A0, B0)\n",
    "print(\"D0:\", D0)\n",
    "\n",
    "D1 = tf.multiply(A1, B1)\n",
    "print(\"D1:\", D1)\n",
    "\n",
    "D2 = tf.multiply(A2, B2)\n",
    "print(\"D2:\", D2)"
   ]
  },
  {
   "cell_type": "markdown",
   "metadata": {},
   "source": [
    "## matmul() operator"
   ]
  },
  {
   "cell_type": "markdown",
   "metadata": {},
   "source": [
    "The matmul() operator performs matrix multiplication with two tensors. The number of rows in one tensor should be the same as the number of columns in the other tensor, and the tensors must be at least 2D."
   ]
  },
  {
   "cell_type": "code",
   "execution_count": 5,
   "metadata": {},
   "outputs": [
    {
     "name": "stdout",
     "output_type": "stream",
     "text": [
      "E2: tf.Tensor(\n",
      "[[[19 22]\n",
      "  [43 50]]], shape=(1, 2, 2), dtype=int32)\n"
     ]
    }
   ],
   "source": [
    "E2 = tf.matmul(A2, B2)\n",
    "print(\"E2:\", E2)"
   ]
  },
  {
   "cell_type": "markdown",
   "metadata": {},
   "source": [
    "## reduce_sum() operator"
   ]
  },
  {
   "cell_type": "markdown",
   "metadata": {},
   "source": [
    "The reduce_sum() operator performs summation over specified dimensions of a tensor."
   ]
  },
  {
   "cell_type": "code",
   "execution_count": 6,
   "metadata": {},
   "outputs": [
    {
     "name": "stdout",
     "output_type": "stream",
     "text": [
      "[[[1. 1. 1. 1.]\n",
      "  [1. 1. 1. 1.]\n",
      "  [1. 1. 1. 1.]]\n",
      "\n",
      " [[1. 1. 1. 1.]\n",
      "  [1. 1. 1. 1.]\n",
      "  [1. 1. 1. 1.]]]\n"
     ]
    }
   ],
   "source": [
    "\n",
    "# define 2x3x4 tensor of ones for reduce_sum() example\n",
    "A = tf.ones([2,3,4])\n",
    "print(A.numpy())"
   ]
  },
  {
   "cell_type": "code",
   "execution_count": 7,
   "metadata": {},
   "outputs": [
    {
     "name": "stdout",
     "output_type": "stream",
     "text": [
      "S: tf.Tensor(24.0, shape=(), dtype=float32)\n",
      "S1: tf.Tensor(\n",
      "[[2. 2. 2. 2.]\n",
      " [2. 2. 2. 2.]\n",
      " [2. 2. 2. 2.]], shape=(3, 4), dtype=float32)\n",
      "S2: tf.Tensor(\n",
      "[[3. 3. 3. 3.]\n",
      " [3. 3. 3. 3.]], shape=(2, 4), dtype=float32)\n",
      "S3: tf.Tensor(\n",
      "[[4. 4. 4.]\n",
      " [4. 4. 4.]], shape=(2, 3), dtype=float32)\n"
     ]
    }
   ],
   "source": [
    "\n",
    "S = tf.reduce_sum(A)\n",
    "print(\"S:\", S)\n",
    "\n",
    "S1 = tf.reduce_sum(A, 0) # sum over dimension 0 (rows)\n",
    "print(\"S1:\", S1)\n",
    "\n",
    "S2 = tf.reduce_sum(A, 1) # sum over dimension 1 (columns)\n",
    "print(\"S2:\", S2)\n",
    "\n",
    "S3 = tf.reduce_sum(A, 2) # sum over dimension 2 (tensors)\n",
    "print(\"S3:\", S3)"
   ]
  },
  {
   "cell_type": "code",
   "execution_count": null,
   "metadata": {},
   "outputs": [],
   "source": []
  }
 ],
 "metadata": {
  "kernelspec": {
   "display_name": "Rules vs Random (PhD)",
   "language": "python",
   "name": "rules_vs_random"
  },
  "language_info": {
   "codemirror_mode": {
    "name": "ipython",
    "version": 3
   },
   "file_extension": ".py",
   "mimetype": "text/x-python",
   "name": "python",
   "nbconvert_exporter": "python",
   "pygments_lexer": "ipython3",
   "version": "3.7.11"
  }
 },
 "nbformat": 4,
 "nbformat_minor": 2
}
