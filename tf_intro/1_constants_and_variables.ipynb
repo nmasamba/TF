{
 "cells": [
  {
   "cell_type": "code",
   "execution_count": 1,
   "metadata": {},
   "outputs": [],
   "source": [
    "\n",
    "import tensorflow as tf"
   ]
  },
  {
   "cell_type": "markdown",
   "metadata": {},
   "source": [
    "## Tensor"
   ]
  },
  {
   "cell_type": "markdown",
   "metadata": {},
   "source": [
    "A tensor is a generalisation of vectors and matrices to an arbitrary number of dimensions. Intuitively, a tensor represents a collection of numbers arranged in a particular shape."
   ]
  },
  {
   "cell_type": "code",
   "execution_count": 2,
   "metadata": {},
   "outputs": [],
   "source": [
    "# 0D tensor\n",
    "d0 = tf.ones((1,))\n",
    "\n",
    "# 1D tensor\n",
    "d1 = tf.ones((2,))\n",
    "\n",
    "# 2D tensor\n",
    "d2 = tf.ones((2,2))\n",
    "\n",
    "# 3D tensor\n",
    "d3 = tf.ones((2, 2, 2))"
   ]
  },
  {
   "cell_type": "code",
   "execution_count": 3,
   "metadata": {},
   "outputs": [
    {
     "data": {
      "text/plain": [
       "tensorflow.python.framework.ops.EagerTensor"
      ]
     },
     "execution_count": 3,
     "metadata": {},
     "output_type": "execute_result"
    }
   ],
   "source": [
    "type(d0)"
   ]
  },
  {
   "cell_type": "code",
   "execution_count": 11,
   "metadata": {},
   "outputs": [
    {
     "name": "stdout",
     "output_type": "stream",
     "text": [
      "[[[1. 1.]\n",
      "  [1. 1.]]\n",
      "\n",
      " [[1. 1.]\n",
      "  [1. 1.]]]\n"
     ]
    }
   ],
   "source": [
    "\n",
    "# to print tensor\n",
    "print(d3.numpy())"
   ]
  },
  {
   "cell_type": "markdown",
   "metadata": {},
   "source": [
    "## Constants"
   ]
  },
  {
   "cell_type": "markdown",
   "metadata": {},
   "source": [
    "A constant is the simplest type of tensor we can create. It is immutable and cannot be trained. However, it can take on any dimension."
   ]
  },
  {
   "cell_type": "code",
   "execution_count": 5,
   "metadata": {},
   "outputs": [
    {
     "name": "stdout",
     "output_type": "stream",
     "text": [
      "[[3 3]\n",
      " [3 3]\n",
      " [3 3]]\n"
     ]
    }
   ],
   "source": [
    "\n",
    "# 3x2 constant of 3s\n",
    "a = tf.constant(3, shape=[3,2])\n",
    "print(a.numpy())"
   ]
  },
  {
   "cell_type": "code",
   "execution_count": 6,
   "metadata": {},
   "outputs": [
    {
     "name": "stdout",
     "output_type": "stream",
     "text": [
      "[[1 2]\n",
      " [3 4]]\n"
     ]
    }
   ],
   "source": [
    "\n",
    "# 2x2 constant of [1,2,3,4]\n",
    "b = tf.constant([1,2,3,4], shape=[2,2])\n",
    "print(b.numpy())"
   ]
  },
  {
   "cell_type": "markdown",
   "metadata": {},
   "source": [
    "## Variables"
   ]
  },
  {
   "cell_type": "markdown",
   "metadata": {},
   "source": [
    "Unlike a constant, the value of a variable is mutable. It can also be shared and persisted. However, its data type and shape are fixed."
   ]
  },
  {
   "cell_type": "code",
   "execution_count": 7,
   "metadata": {},
   "outputs": [
    {
     "name": "stdout",
     "output_type": "stream",
     "text": [
      "[1. 2. 3. 4. 5. 6.]\n"
     ]
    }
   ],
   "source": [
    "\n",
    "# Declare variable with fixed data type. Shape is also fixed.\n",
    "a0 = tf.Variable([1,2,3,4,5,6], dtype=tf.float32)\n",
    "print(a0.numpy())"
   ]
  },
  {
   "cell_type": "code",
   "execution_count": 8,
   "metadata": {},
   "outputs": [
    {
     "name": "stdout",
     "output_type": "stream",
     "text": [
      "ValueError: Cannot change a variable's shape.\n"
     ]
    }
   ],
   "source": [
    "\n",
    "# Try to change a variable's shape \n",
    "try:\n",
    "    a1 = tf.Variable([1,2,3,4,5,6], shape=[3,2])\n",
    "except ValueError:\n",
    "    print(\"ValueError: Cannot change a variable's shape.\")\n",
    "else:\n",
    "    print(a1.numpy())"
   ]
  },
  {
   "cell_type": "code",
   "execution_count": 10,
   "metadata": {},
   "outputs": [
    {
     "name": "stdout",
     "output_type": "stream",
     "text": [
      "prod0: tf.Tensor([ 2.  4.  6.  8. 10. 12.], shape=(6,), dtype=float32)\n",
      "prod1: tf.Tensor([ 2.  4.  6.  8. 10. 12.], shape=(6,), dtype=float32)\n"
     ]
    }
   ],
   "source": [
    "\n",
    "# Compute the product of a variable vs a constant\n",
    "c = tf.constant(2, tf.float32)\n",
    "\n",
    "prod0 = tf.multiply(a0, c)\n",
    "print(\"prod0:\", prod0)\n",
    "\n",
    "prod1 = a0 * c\n",
    "print(\"prod1:\", prod1)"
   ]
  },
  {
   "cell_type": "code",
   "execution_count": null,
   "metadata": {},
   "outputs": [],
   "source": []
  }
 ],
 "metadata": {
  "kernelspec": {
   "display_name": "Rules vs Random (PhD)",
   "language": "python",
   "name": "rules_vs_random"
  },
  "language_info": {
   "codemirror_mode": {
    "name": "ipython",
    "version": 3
   },
   "file_extension": ".py",
   "mimetype": "text/x-python",
   "name": "python",
   "nbconvert_exporter": "python",
   "pygments_lexer": "ipython3",
   "version": "3.7.11"
  }
 },
 "nbformat": 4,
 "nbformat_minor": 2
}
